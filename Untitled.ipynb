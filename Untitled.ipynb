{
 "cells": [
  {
   "cell_type": "code",
   "execution_count": 1,
   "metadata": {},
   "outputs": [
    {
     "name": "stdout",
     "output_type": "stream",
     "text": [
      "[nltk_data] [Errno 20] Not a directory:\n",
      "[nltk_data]     '/home/alpha/nltk_data/corpora/dolch/README'\n"
     ]
    },
    {
     "data": {
      "text/plain": [
       "False"
      ]
     },
     "execution_count": 1,
     "metadata": {},
     "output_type": "execute_result"
    }
   ],
   "source": [
    "import string\n",
    "from lxml import etree\n",
    "import nltk\n",
    "from nltk.tokenize import sent_tokenize, word_tokenize\n",
    "from nltk.corpus import stopwords\n",
    "from nltk.stem import PorterStemmer\n",
    "from nltk.stem import WordNetLemmatizer\n",
    "nltk.download(\"all\", quiet=True)"
   ]
  },
  {
   "cell_type": "code",
   "execution_count": 2,
   "metadata": {
    "collapsed": true
   },
   "outputs": [],
   "source": [
    "with open(\"MsgLog_2017-01-24-011347.xml\", \"rt\") as f:\n",
    "    s = f.read()\n",
    "parser = etree.XMLParser(recover=True)\n",
    "tree = etree.fromstring(s, parser=parser)"
   ]
  },
  {
   "cell_type": "code",
   "execution_count": 3,
   "metadata": {
    "collapsed": true
   },
   "outputs": [],
   "source": [
    "english_words = set(nltk.corpus.words.words('en'))\n",
    "stop_words = set(stopwords.words('english'))\n",
    "\n",
    "ps = PorterStemmer()\n",
    "lt = WordNetLemmatizer()\n",
    "\n",
    "s = s.translate(str.maketrans('','',string.punctuation))\n",
    "s = s.translate(str.maketrans('','',string.digits))\n",
    "s = s.lower()"
   ]
  },
  {
   "cell_type": "code",
   "execution_count": 4,
   "metadata": {
    "collapsed": true
   },
   "outputs": [],
   "source": [
    "body_texts = sum((word_tokenize(body.text \\\n",
    "                                .translate(str.maketrans('','',string.punctuation)) \\\n",
    "                                .translate(str.maketrans('','',string.digits)))\n",
    "                  for body in tree.iter(tag=\"Body\")), [])"
   ]
  },
  {
   "cell_type": "code",
   "execution_count": 5,
   "metadata": {
    "collapsed": true
   },
   "outputs": [],
   "source": [
    "body_texts = [word for word in body_texts\n",
    "              if word in english_words and word not in stop_words]"
   ]
  },
  {
   "cell_type": "code",
   "execution_count": 34,
   "metadata": {},
   "outputs": [],
   "source": [
    "preprocessing = \"lemmatize\"\n",
    "if preprocessing == \"stem\":\n",
    "    body_texts = [ps.stem(word) for word in body_texts]\n",
    "elif preprocessing == \"lemmatize\":\n",
    "    body_texts = [lt.lemmatize(word) for word in body_texts]\n",
    "    \n",
    "text_string = \" \".join(body_texts)"
   ]
  },
  {
   "cell_type": "code",
   "execution_count": 38,
   "metadata": {
    "collapsed": true
   },
   "outputs": [],
   "source": [
    "from sklearn.feature_extraction.text import TfidfVectorizer\n",
    "vect = TfidfVectorizer()\n",
    "tfidf = vect.fit_transform([text_string])\n",
    "tfidf_words = pd.Series(tfidf.toarray().flatten(), index=vect.get_feature_names())"
   ]
  },
  {
   "cell_type": "code",
   "execution_count": 39,
   "metadata": {},
   "outputs": [
    {
     "data": {
      "text/plain": [
       "neanderthal       0.000241\n",
       "shipboard         0.000241\n",
       "shirley           0.000241\n",
       "insurmountable    0.000241\n",
       "bonfire           0.000241\n",
       "dtype: float64"
      ]
     },
     "execution_count": 39,
     "metadata": {},
     "output_type": "execute_result"
    }
   ],
   "source": [
    "tfidf_words.sort_values().head()"
   ]
  },
  {
   "cell_type": "code",
   "execution_count": 40,
   "metadata": {},
   "outputs": [
    {
     "data": {
      "text/plain": [
       "licensed    0.286032\n",
       "produced    0.286756\n",
       "format      0.289894\n",
       "provide     0.308239\n",
       "please      0.415652\n",
       "dtype: float64"
      ]
     },
     "execution_count": 40,
     "metadata": {},
     "output_type": "execute_result"
    }
   ],
   "source": [
    "tfidf_words.sort_values().tail()"
   ]
  },
  {
   "cell_type": "code",
   "execution_count": 41,
   "metadata": {},
   "outputs": [],
   "source": [
    "tfidf_words.to_csv(\"TF_Body.csv\")"
   ]
  },
  {
   "cell_type": "code",
   "execution_count": null,
   "metadata": {
    "collapsed": true
   },
   "outputs": [],
   "source": []
  }
 ],
 "metadata": {
  "kernelspec": {
   "display_name": "Python 3",
   "language": "python",
   "name": "python3"
  },
  "language_info": {
   "codemirror_mode": {
    "name": "ipython",
    "version": 3
   },
   "file_extension": ".py",
   "mimetype": "text/x-python",
   "name": "python",
   "nbconvert_exporter": "python",
   "pygments_lexer": "ipython3",
   "version": "3.5.2"
  }
 },
 "nbformat": 4,
 "nbformat_minor": 2
}
