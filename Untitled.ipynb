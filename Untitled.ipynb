{
 "cells": [
  {
   "cell_type": "code",
   "execution_count": 53,
   "metadata": {},
   "outputs": [
    {
     "name": "stdout",
     "output_type": "stream",
     "text": [
      "[nltk_data] [Errno 20] Not a directory:\n",
      "[nltk_data]     '/home/alpha/nltk_data/corpora/dolch/README'\n"
     ]
    }
   ],
   "source": [
    "import string\n",
    "from lxml import etree\n",
    "import nltk\n",
    "from nltk.tokenize import sent_tokenize, word_tokenize\n",
    "from nltk.corpus import stopwords\n",
    "from nltk.stem import PorterStemmer\n",
    "from nltk.stem import WordNetLemmatizer\n",
    "nltk.download(\"all\", quiet=True)\n",
    "\n",
    "from sklearn.feature_extraction.text import TfidfVectorizer, CountVectorizer\n",
    "from sklearn.decomposition import TruncatedSVD\n"
   ]
  },
  {
   "cell_type": "code",
   "execution_count": 2,
   "metadata": {
    "collapsed": true
   },
   "outputs": [],
   "source": [
    "with open(\"MsgLog_2017-01-24-011347.xml\", \"rt\") as f:\n",
    "    s = f.read()\n",
    "parser = etree.XMLParser(recover=True)\n",
    "tree = etree.fromstring(s, parser=parser)"
   ]
  },
  {
   "cell_type": "code",
   "execution_count": 3,
   "metadata": {
    "collapsed": true
   },
   "outputs": [],
   "source": [
    "english_words = set(nltk.corpus.words.words('en'))\n",
    "stop_words = set(stopwords.words('english'))\n",
    "\n",
    "ps = PorterStemmer()\n",
    "lt = WordNetLemmatizer()\n",
    "\n",
    "s = s.translate(str.maketrans('','',string.punctuation))\n",
    "s = s.translate(str.maketrans('','',string.digits))\n",
    "s = s.lower()"
   ]
  },
  {
   "cell_type": "code",
   "execution_count": 48,
   "metadata": {
    "collapsed": true
   },
   "outputs": [],
   "source": [
    "body_texts = [word_tokenize(body.text \\\n",
    "                                .translate(str.maketrans('','',string.punctuation)) \\\n",
    "                                .translate(str.maketrans('','',string.digits)))\n",
    "                  for body in tree.iter(tag=\"Body\")]"
   ]
  },
  {
   "cell_type": "code",
   "execution_count": 5,
   "metadata": {
    "collapsed": true
   },
   "outputs": [],
   "source": [
    "body_texts = [word for word in body_texts\n",
    "              if word in english_words and word not in stop_words]"
   ]
  },
  {
   "cell_type": "code",
   "execution_count": 34,
   "metadata": {},
   "outputs": [],
   "source": [
    "preprocessing = \"lemmatize\"\n",
    "if preprocessing == \"stem\":\n",
    "    body_texts = [ps.stem(word) for word in body_texts]\n",
    "elif preprocessing == \"lemmatize\":\n",
    "    body_texts = [lt.lemmatize(word) for word in body_texts]\n",
    "    \n",
    "text_string = \" \".join(body_texts)"
   ]
  },
  {
   "cell_type": "code",
   "execution_count": 38,
   "metadata": {
    "collapsed": true
   },
   "outputs": [],
   "source": [
    "vect = TfidfVectorizer()\n",
    "tfidf = vect.fit_transform([text_string])\n",
    "tfidf_words = pd.Series(tfidf.toarray().flatten(), index=vect.get_feature_names())"
   ]
  },
  {
   "cell_type": "code",
   "execution_count": 39,
   "metadata": {},
   "outputs": [
    {
     "data": {
      "text/plain": [
       "neanderthal       0.000241\n",
       "shipboard         0.000241\n",
       "shirley           0.000241\n",
       "insurmountable    0.000241\n",
       "bonfire           0.000241\n",
       "dtype: float64"
      ]
     },
     "execution_count": 39,
     "metadata": {},
     "output_type": "execute_result"
    }
   ],
   "source": [
    "tfidf_words.sort_values().head()"
   ]
  },
  {
   "cell_type": "code",
   "execution_count": 40,
   "metadata": {},
   "outputs": [
    {
     "data": {
      "text/plain": [
       "licensed    0.286032\n",
       "produced    0.286756\n",
       "format      0.289894\n",
       "provide     0.308239\n",
       "please      0.415652\n",
       "dtype: float64"
      ]
     },
     "execution_count": 40,
     "metadata": {},
     "output_type": "execute_result"
    }
   ],
   "source": [
    "tfidf_words.sort_values().tail()"
   ]
  },
  {
   "cell_type": "code",
   "execution_count": 41,
   "metadata": {},
   "outputs": [],
   "source": [
    "tfidf_words.to_csv(\"TF_Body.csv\")"
   ]
  },
  {
   "cell_type": "code",
   "execution_count": 43,
   "metadata": {},
   "outputs": [
    {
     "name": "stderr",
     "output_type": "stream",
     "text": [
      "/home/alpha/upwork/xml-nlp/.env/lib/python3.5/site-packages/sklearn/decomposition/truncated_svd.py:188: RuntimeWarning: divide by zero encountered in true_divide\n",
      "  self.explained_variance_ratio_ = exp_var / full_var\n"
     ]
    }
   ],
   "source": [
    "t = TruncatedSVD(1).fit([[1,1],[1,1]])"
   ]
  },
  {
   "cell_type": "code",
   "execution_count": 44,
   "metadata": {},
   "outputs": [
    {
     "data": {
      "text/plain": [
       "array([[ 0.70710678,  0.70710678]])"
      ]
     },
     "execution_count": 44,
     "metadata": {},
     "output_type": "execute_result"
    }
   ],
   "source": [
    "t.components_"
   ]
  },
  {
   "cell_type": "code",
   "execution_count": null,
   "metadata": {
    "collapsed": true
   },
   "outputs": [],
   "source": []
  },
  {
   "cell_type": "code",
   "execution_count": 50,
   "metadata": {},
   "outputs": [
    {
     "data": {
      "text/plain": [
       "['',\n",
       " '',\n",
       " 'Debra Perlingiere Enron North America Legal Smith Street EB Houston Texas DebraPerlingiereenroncom Fax EDRM Enron Email Data Set has been produced in EML PST and NSF format by ZL Technologies Inc This Data Set is licensed under a Creative Commons Attribution United States License httpcreativecommonsorglicensesbyus To provide attribution please cite to ZL Technologies Inc httpwwwzlticom',\n",
       " 'Thanks Robin Look forward to future business Original Message From Robin Masciangelo rmasciangelodukeenergycomENRON Sent Friday October AM',\n",
       " 'Regarding the GISB issues remaining are Section Performance Obl we perfer Spot Standard They argue the Cilco city gate does not have a Spot Market If the city gate is their end user I will give on this point Tammy is checking to see if this is their only customer Debra Perlingiere Enron North America Legal Smith Street EB Houston Texas DebraPerlingiereenroncom Fax EDRM Enron Email Data Set has been produced in EML PST and NSF format by ZL Technologies Inc This Data Set is licensed under a Creative Commons Attribution United States License httpcreativecommonsorglicensesbyus To provide attribution please cite to ZL Technologies Inc httpwwwzlticom',\n",
       " 'Robin Attached is the final version of the Master Agreement If in agreement please print and execute two originals and return same to my attention Upon final exeuction I will forward an original for your records Please do not hesitate to give me call should you have an additional questions or comments regarding the enclosed Debra Perlingiere Enron North America Legal Smith Street EB Houston Texas DebraPerlingiereenroncom Fax EDRM Enron Email Data Set has been produced in EML PST and NSF format by ZL Technologies Inc This Data Set is licensed under a Creative Commons Attribution United States License httpcreativecommonsorglicensesbyus To provide attribution please cite to ZL Technologies Inc httpwwwzlticom',\n",
       " 'The following Amendments have been fully exeucted LaurensThe Energy Authority and eprime These amendments have been sent for signature TXU Phillips PSEG and Debra Perlingiere Enron North America Legal Smith Street EB Houston Texas DebraPerlingiereenroncom Fax EDRM Enron Email Data Set has been produced in EML PST and NSF format by ZL Technologies Inc This Data Set is licensed under a Creative Commons Attribution United States License httpcreativecommonsorglicensesbyus To provide attribution please cite to ZL Technologies Inc httpwwwzlticom',\n",
       " 'I would like to use the following for the Flexible Pricing The last sentence regarding the keep whole verbiage I think you will want to delete this as it does not allow for Force Majeure FLEXIBLE PRICING During the Period of Delivery for a Transaction Customer may request a price other than the original Contract Price being a Fixed Price or each below defined by contacting Company during Pricing Hours requesting any such price for a specified quantity of Gas to be Scheduled during selected Months within the Period of Delivery provided such request must be made prior to noon CT of the last Business Day prior to the last trading Day of the NYMEX Gas futures contract for the selected Month A Confirmation may be sent by Company to Customer confirming the Flexible Pricing agreement in accordance with Exhibit A Fixed Price means a fixed dollar amount agreed to by the Parties The price for all Gas for which a Flexible Price has not been agreed by the Parties shall be the original Contract Price applicable to the Transaction Notwithstanding anything to the contrary contained in this Confirmation or the GTC upon Customers acceptance of Fixed Price Customer shall keep whole and hold Company harmless for all cost and expenses incurred by Company with respect to the quantity of Gas that is converted into a Fixed Price in the event that such quantity of Gas is not Scheduled by Customer for any reasons including without limitation events of Force Majeure For the Section Daily Pricing for Physical call Option Daily Pricing means the Daily Midpoint price set forth in Gas Daily Platts a division of The McGrawHill Companies or successor publication in the column Daily Price Survey under the listing applicable to the geographic location closest in proximity to the Delivery Points for the relevant gas day If there is no single Daily Midpoint price published for that particular Gas Day but there is published a Common range of prices under the above column and listing then the Spot Price shall be the average of such Common high and low prices In the event that no Daily Midpoint price or Common range of prices is published for that particular Gas Day then the Spot Price shall be the average of the following the price determined as stated above for each of the first Gas Day immediately preceding and following the Gas Day in which the default occurred for which a Spot Price can be determined Let me know what you think dp Debra Perlingiere Enron North America Legal Smith Street EB Houston Texas DebraPerlingiereenroncom Fax EDRM Enron Email Data Set has been produced in EML PST and NSF format by ZL Technologies Inc This Data Set is licensed under a Creative Commons Attribution United States License httpcreativecommonsorglicensesbyus To provide attribution please cite to ZL Technologies Inc httpwwwzlticom',\n",
       " 'Please contact one of the following regarding power trading Leslie Hansen or David Portz Original Message From Tammy Gonzales TammyGonzalesrweamericascomENRON Sent Wednesday October AM',\n",
       " 'Robin here is a redline reflecting changes to Section and Original Message From Robin Masciangelo rmasciangelodukeenergycomENRON Sent Monday October AM']"
      ]
     },
     "execution_count": 50,
     "metadata": {},
     "output_type": "execute_result"
    }
   ],
   "source": [
    "vecs = [\" \".join(text) for text in body_texts]\n",
    "vecs[:10]"
   ]
  },
  {
   "cell_type": "code",
   "execution_count": 51,
   "metadata": {},
   "outputs": [
    {
     "data": {
      "text/plain": [
       "<1904x7846 sparse matrix of type '<class 'numpy.float64'>'\n",
       "\twith 134629 stored elements in Compressed Sparse Row format>"
      ]
     },
     "execution_count": 51,
     "metadata": {},
     "output_type": "execute_result"
    }
   ],
   "source": [
    "vect.fit_transform(vecs)\n"
   ]
  },
  {
   "cell_type": "code",
   "execution_count": 52,
   "metadata": {
    "collapsed": true
   },
   "outputs": [],
   "source": [
    "text_strings = vecs"
   ]
  },
  {
   "cell_type": "code",
   "execution_count": 57,
   "metadata": {
    "collapsed": true
   },
   "outputs": [],
   "source": [
    "n_words_to_select = 100"
   ]
  },
  {
   "cell_type": "code",
   "execution_count": 70,
   "metadata": {},
   "outputs": [],
   "source": [
    "tag = \"Body\"\n",
    "\n",
    "tfidf_vect = TfidfVectorizer()\n",
    "tfidf = tfidf_vect.fit_transform(text_strings).toarray().sum(axis=0)\n",
    "tfidf_terms = tfidf_vect.get_feature_names()\n",
    "\n",
    "count_vect = CountVectorizer()\n",
    "count = count_vect.fit_transform(text_strings).toarray()\n",
    "total_counts = count.sum(axis=0)\n",
    "count_terms = count_vect.get_feature_names()\n",
    "\n",
    "lsa = TruncatedSVD(n_words_to_select)\n",
    "lsa.fit_transform(count)\n",
    "lsa_vectors = lsa.components_\n",
    "top_components = [count_terms[vector.argmax()] for vector in lsa_vectors]\n",
    "\n",
    "output = pd.DataFrame({\"term\": count_terms, \"occurence\": total_counts})\n",
    "output.index = output[\"term\"]\n",
    "output[\"TF-IDF\"] = tfidf\n",
    "\n",
    "output.nlargest(100, \"TF-IDF\")[[\"occurence\"]].to_csv(\"TF_{}.csv\".format(tag))\n",
    "output.loc[top_components, [\"occurence\"]].to_csv(\"LSA_{}.csv\".format(tag))\n"
   ]
  },
  {
   "cell_type": "code",
   "execution_count": 72,
   "metadata": {},
   "outputs": [
    {
     "data": {
      "text/plain": [
       "['tofrom',\n",
       " 'the',\n",
       " 'at',\n",
       " 'way',\n",
       " 'at',\n",
       " 'on',\n",
       " 'folder',\n",
       " 'travel',\n",
       " 'new',\n",
       " 'the',\n",
       " 'your',\n",
       " 'omnicalendarentry',\n",
       " 'no',\n",
       " 'we',\n",
       " 'and',\n",
       " 'and',\n",
       " 'renotahoe',\n",
       " 'renotahoe',\n",
       " 'to',\n",
       " 'will',\n",
       " 'legal',\n",
       " 'enron',\n",
       " 'original',\n",
       " 'of',\n",
       " 'httptravelocitymnetmsasphbxxx',\n",
       " 'as',\n",
       " 'nv',\n",
       " 'to',\n",
       " 'httptravelocitymnetmsasphbxxx',\n",
       " 'httptravelocitymnetmsasphbxxx',\n",
       " 'email',\n",
       " 'email',\n",
       " 'are',\n",
       " 'be',\n",
       " 'fri',\n",
       " 'will',\n",
       " 'for',\n",
       " 'lexisnexis',\n",
       " 'fri',\n",
       " 'for',\n",
       " 'this',\n",
       " 'tx',\n",
       " 'on',\n",
       " 'you',\n",
       " 'is',\n",
       " 'at',\n",
       " 'your',\n",
       " 'november',\n",
       " 'november',\n",
       " 'this',\n",
       " 'by',\n",
       " 'party',\n",
       " 'statement',\n",
       " 'meeting',\n",
       " 'portfolio',\n",
       " 'statement',\n",
       " 'have',\n",
       " 'man',\n",
       " 'in',\n",
       " 'am',\n",
       " 'man',\n",
       " 'that',\n",
       " 'if',\n",
       " 'as',\n",
       " 'inc',\n",
       " 'with',\n",
       " 'this',\n",
       " 'contact',\n",
       " 'amendment',\n",
       " 'minutes',\n",
       " 'which',\n",
       " 'this',\n",
       " 'not',\n",
       " 'inc',\n",
       " 'girls',\n",
       " 'thanks',\n",
       " 'synchronizing',\n",
       " 'as',\n",
       " 'offline',\n",
       " 'downtown',\n",
       " 'synchronizing',\n",
       " 'activity',\n",
       " 'synchronizing',\n",
       " 'activity',\n",
       " 'corp',\n",
       " 'should',\n",
       " 'agreement',\n",
       " 'changes',\n",
       " 'readwrite',\n",
       " 'can',\n",
       " 'fiscal',\n",
       " 'box',\n",
       " 'know',\n",
       " 'box',\n",
       " 'rewards',\n",
       " 'contract',\n",
       " 'box',\n",
       " 'thanks',\n",
       " 'would',\n",
       " 'they']"
      ]
     },
     "execution_count": 72,
     "metadata": {},
     "output_type": "execute_result"
    }
   ],
   "source": [
    "top_components"
   ]
  },
  {
   "cell_type": "code",
   "execution_count": null,
   "metadata": {
    "collapsed": true
   },
   "outputs": [],
   "source": [
    "output"
   ]
  },
  {
   "cell_type": "code",
   "execution_count": null,
   "metadata": {
    "collapsed": true
   },
   "outputs": [],
   "source": [
    "def to_xml(df, name):\n",
    "    with open(name, \"wt\") as f:\n",
    "        for i, row in df.iterrows():\n",
    "            f.write(\"<field term=\\\"{term}\\\">{count}</field>\".format(term=row[\"term\"], count=row[\"count\"]))"
   ]
  }
 ],
 "metadata": {
  "kernelspec": {
   "display_name": "Python 3",
   "language": "python",
   "name": "python3"
  },
  "language_info": {
   "codemirror_mode": {
    "name": "ipython",
    "version": 3
   },
   "file_extension": ".py",
   "mimetype": "text/x-python",
   "name": "python",
   "nbconvert_exporter": "python",
   "pygments_lexer": "ipython3",
   "version": "3.5.2"
  }
 },
 "nbformat": 4,
 "nbformat_minor": 2
}
